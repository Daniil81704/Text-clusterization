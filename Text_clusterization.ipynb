{
  "nbformat": 4,
  "nbformat_minor": 0,
  "metadata": {
    "colab": {
      "provenance": [],
      "gpuType": "T4",
      "authorship_tag": "ABX9TyOWCgiH2hHnoxi0RZMLtBC2",
      "include_colab_link": true
    },
    "kernelspec": {
      "name": "python3",
      "display_name": "Python 3"
    },
    "language_info": {
      "name": "python"
    },
    "accelerator": "GPU"
  },
  "cells": [
    {
      "cell_type": "markdown",
      "metadata": {
        "id": "view-in-github",
        "colab_type": "text"
      },
      "source": [
        "<a href=\"https://colab.research.google.com/github/Daniil81704/Text-clusterization/blob/master/Text_clusterization.ipynb\" target=\"_parent\"><img src=\"https://colab.research.google.com/assets/colab-badge.svg\" alt=\"Open In Colab\"/></a>"
      ]
    },
    {
      "cell_type": "code",
      "execution_count": null,
      "metadata": {
        "id": "5Zw_fKtXnExA"
      },
      "outputs": [],
      "source": [
        "# installation-секция\n",
        "!pip install -U sentence-transformers\n",
        "!pip install hdbscan"
      ]
    },
    {
      "cell_type": "code",
      "source": [
        "# import-секция\n",
        "from transformers import BertTokenizer, BertModel\n",
        "from sklearn.metrics.pairwise import cosine_similarity\n",
        "import torch\n",
        "import numpy as np\n",
        "import hdbscan"
      ],
      "metadata": {
        "id": "8pnA2DgonKvT"
      },
      "execution_count": null,
      "outputs": []
    },
    {
      "cell_type": "code",
      "source": [
        "sentences = ['Здравствуйте, я хочу заказать пиццу',\n",
        "             'Добрый день, я бы хотел снять у вас одноместный номер на трое суток',\n",
        "             'Естественная сладость яблока и моркови гармонично сочетается с солоноватостью сыра',\n",
        "             'Сочные овощи станут основой теста, мука и яйцо помогут скрепить ингредиенты, а простые специи сбалансируют вкус',\n",
        "             'Мы с семьей каждый год ходим в поход',\n",
        "             'Отличная выдалась поездка на море в этом году!']\n",
        "\n",
        "sentences_arr = np.array(sentences)"
      ],
      "metadata": {
        "id": "gAJA9Kw9nPX1"
      },
      "execution_count": null,
      "outputs": []
    },
    {
      "cell_type": "code",
      "source": [
        "# определение необходимых функций\n",
        "def obtaining_embeddings(text, model, tokenizer):\n",
        "    t = tokenizer(text, padding=True, truncation=True, return_tensors='pt')\n",
        "    with torch.no_grad():\n",
        "        model_output = model(**{k: v.to(model.device) for k, v in t.items()})\n",
        "    embeddings = model_output.last_hidden_state[:, 0, :]\n",
        "    embeddings = torch.nn.functional.normalize(embeddings)\n",
        "    return embeddings[0].cpu().numpy()\n",
        "\n",
        "def get_clustered(labels):\n",
        "  x = list(labels)\n",
        "  res = []\n",
        "  for i in range(0, max(labels)+1):\n",
        "    lst_1 = np.where(x == np.int32(i))[0]\n",
        "    for j in lst_1:\n",
        "      res.append([i, sentences_arr[j], j])\n",
        "  return res"
      ],
      "metadata": {
        "id": "J9LEDDJnnTKE"
      },
      "execution_count": null,
      "outputs": []
    },
    {
      "cell_type": "code",
      "source": [
        "tokenizer = BertTokenizer.from_pretrained(\"ai-forever/sbert_large_mt_nlu_ru\")\n",
        "model = BertModel.from_pretrained(\"ai-forever/sbert_large_mt_nlu_ru\")"
      ],
      "metadata": {
        "id": "hohEHzQLn6nA"
      },
      "execution_count": null,
      "outputs": []
    },
    {
      "cell_type": "code",
      "source": [
        "# получение эмбеддингов\n",
        "embeddings = []\n",
        "for i in range(len(sentences)):\n",
        "  embeddings.append(obtaining_embeddings(sentences[i], model, tokenizer))\n",
        "embeddings_arr = np.array(embeddings)"
      ],
      "metadata": {
        "id": "UV7cOCZ0n9gZ"
      },
      "execution_count": null,
      "outputs": []
    },
    {
      "cell_type": "code",
      "source": [
        "# кластеризация предложений\n",
        "clusterer = hdbscan.HDBSCAN(min_cluster_size = 2, min_samples=2, cluster_selection_epsilon=0.01, alpha=0.5)\n",
        "\n",
        "# Обучение на данных\n",
        "clusterer.fit(embeddings_arr)\n",
        "\n",
        "# Получение меток кластеров\n",
        "labels = clusterer.labels_"
      ],
      "metadata": {
        "id": "im_7k3tIn__g"
      },
      "execution_count": null,
      "outputs": []
    },
    {
      "cell_type": "code",
      "source": [
        "res = get_clustered(labels)\n",
        "print(labels)\n",
        "print(res)"
      ],
      "metadata": {
        "id": "t4pgbbLloC3J"
      },
      "execution_count": null,
      "outputs": []
    }
  ]
}